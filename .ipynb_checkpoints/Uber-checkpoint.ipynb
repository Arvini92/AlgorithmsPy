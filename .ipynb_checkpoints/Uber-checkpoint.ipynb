{
 "cells": [
  {
   "cell_type": "code",
   "execution_count": 1,
   "metadata": {},
   "outputs": [],
   "source": [
    "def solution(lst):\n",
    "    high = max(lst[0], lst[1])\n",
    "    low = min(lst[0], lst[1])\n",
    "    \n",
    "    high_prod2 = lst[0] * lst[1]\n",
    "    low_prod2 = lst[0] * lst[1]\n",
    "    \n",
    "    high_prod3 = lst[0] * lst[1] * lst[2]\n",
    "    \n",
    "    for num in lst[2:]:\n",
    "        high_prod3 = max(high_prod3,num * high_prod2, num * low_prod2)\n",
    "        \n",
    "        high_prod2 = max(high_prod2, num*high, num*low)\n",
    "        \n",
    "        low_prod2 = min(low_prod2, num*high, num*low)\n",
    "        \n",
    "        high = max(high, num)\n",
    "        \n",
    "        low = min(low, num)\n",
    "        \n",
    "    return high_prod3"
   ]
  },
  {
   "cell_type": "code",
   "execution_count": 2,
   "metadata": {},
   "outputs": [],
   "source": [
    "def solution(n, coins):\n",
    "    arr = [1] + [0]*n\n",
    "    \n",
    "    for coin in coins:\n",
    "        for i in range(coin, n+1):\n",
    "            arr[i] += arr[i-coin]\n",
    "            \n",
    "    if n==0:\n",
    "        return 0\n",
    "    else:\n",
    "        return arr[n]"
   ]
  },
  {
   "cell_type": "code",
   "execution_count": 5,
   "metadata": {},
   "outputs": [],
   "source": [
    "class Node:\n",
    "    def __init__(self, val=None):\n",
    "        self.left = None\n",
    "        self.right = None\n",
    "        self.val = val"
   ]
  },
  {
   "cell_type": "code",
   "execution_count": 6,
   "metadata": {},
   "outputs": [],
   "source": [
    "INFINITY = float('infinity')\n",
    "NEG_INFINITY = float('-infinity')"
   ]
  },
  {
   "cell_type": "code",
   "execution_count": 7,
   "metadata": {},
   "outputs": [],
   "source": [
    "def isBST(tree, minVal = NEG_INFINITY, maxVal = INFINITY):\n",
    "    if tree is None:\n",
    "        return True\n",
    "    \n",
    "    if not minVal <= tree.val <= maxVal:\n",
    "        return False\n",
    "    \n",
    "    return isBST(tree.left, minVal, tree.val) and isBST(tree.right, tree.val, maxVal)"
   ]
  },
  {
   "cell_type": "code",
   "execution_count": null,
   "metadata": {},
   "outputs": [],
   "source": [
    "def isBST2(tree, lastNode = [NEG_INFINITY]):\n",
    "    if tree is None:\n",
    "        return True\n",
    "    \n",
    "    if not isBST2(tree.left, lastNode):\n",
    "        return False\n",
    "    \n",
    "    if tree.val < lastNode[0]:\n",
    "        return False\n",
    "    \n",
    "    lastNode[0] = tree.val\n",
    "    \n",
    "    return isBST2(tree.right, lastNode)"
   ]
  }
 ],
 "metadata": {
  "kernelspec": {
   "display_name": "Python 2",
   "language": "python",
   "name": "python2"
  },
  "language_info": {
   "codemirror_mode": {
    "name": "ipython",
    "version": 2
   },
   "file_extension": ".py",
   "mimetype": "text/x-python",
   "name": "python",
   "nbconvert_exporter": "python",
   "pygments_lexer": "ipython2",
   "version": "2.7.15"
  }
 },
 "nbformat": 4,
 "nbformat_minor": 2
}
