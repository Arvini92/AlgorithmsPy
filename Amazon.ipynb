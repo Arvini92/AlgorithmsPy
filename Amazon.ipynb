{
 "cells": [
  {
   "cell_type": "code",
   "execution_count": 5,
   "metadata": {},
   "outputs": [],
   "source": [
    "def profit(stock_prices):\n",
    "    min_stock_price = stock_prices[0]\n",
    "    \n",
    "    max_profit = 0\n",
    "    \n",
    "    for price in stock_prices:\n",
    "        \n",
    "        min_stock_price = min(min_stock_price, price)\n",
    "        \n",
    "        comparison_profit = price - min_stock_price\n",
    "        \n",
    "        max_profit = max(max_profit, comparison_profit)\n",
    "        \n",
    "    return max_profit"
   ]
  },
  {
   "cell_type": "code",
   "execution_count": 6,
   "metadata": {},
   "outputs": [
    {
     "data": {
      "text/plain": [
       "7"
      ]
     },
     "execution_count": 6,
     "metadata": {},
     "output_type": "execute_result"
    }
   ],
   "source": [
    "profit([23, 12, 3, 10])"
   ]
  },
  {
   "cell_type": "code",
   "execution_count": 7,
   "metadata": {},
   "outputs": [],
   "source": [
    "def profit2(stock_prices):\n",
    "    if len(stock_prices) < 2:\n",
    "        raise Exeption('Need at least two stock prices!')\n",
    "        \n",
    "    min_stock_price = stock_prices[0]\n",
    "    \n",
    "    max_profit = stock_prices[1] - stock_prices[0]\n",
    "    \n",
    "    for price in stock_prices[1:]:\n",
    "        \n",
    "        comparison_profit = price - min_stock_price\n",
    "        \n",
    "        max_profit = max(max_profit, comparison_profit)\n",
    "        \n",
    "        min_stock_price = min(min_stock_price, price)\n",
    "        \n",
    "    return max_profit"
   ]
  },
  {
   "cell_type": "code",
   "execution_count": 9,
   "metadata": {},
   "outputs": [
    {
     "data": {
      "text/plain": [
       "-1"
      ]
     },
     "execution_count": 9,
     "metadata": {},
     "output_type": "execute_result"
    }
   ],
   "source": [
    "profit2([23, 22, 21, 10])"
   ]
  },
  {
   "cell_type": "code",
   "execution_count": 12,
   "metadata": {},
   "outputs": [],
   "source": [
    "def index_prod(lst):\n",
    "    output = [None] * len(lst)\n",
    "    \n",
    "    product = 1\n",
    "    i = 0\n",
    "    \n",
    "    while i < len(lst):\n",
    "        output[i] = product\n",
    "        \n",
    "        product *= lst[i]\n",
    "        \n",
    "        i += 1\n",
    "    \n",
    "    print 'First forward pass: ', output\n",
    "    product = 1\n",
    "    i = len(lst) - 1\n",
    "    \n",
    "    while i >= 0:\n",
    "        output[i] *= product\n",
    "        product *= lst[i]\n",
    "        i -= 1\n",
    "        \n",
    "    return output"
   ]
  },
  {
   "cell_type": "code",
   "execution_count": 13,
   "metadata": {},
   "outputs": [
    {
     "name": "stdout",
     "output_type": "stream",
     "text": [
      "First forward pass:  [1, 1, 2, 6, 24]\n"
     ]
    },
    {
     "data": {
      "text/plain": [
       "[120, 60, 40, 30, 24]"
      ]
     },
     "execution_count": 13,
     "metadata": {},
     "output_type": "execute_result"
    }
   ],
   "source": [
    "index_prod([1,2,3,4,5])"
   ]
  },
  {
   "cell_type": "code",
   "execution_count": 14,
   "metadata": {},
   "outputs": [],
   "source": [
    "def calc_overlap(coor1,dim1,coor2,dim2):\n",
    "    greater = max(coor1, coor2)\n",
    "    \n",
    "    lower = min(coor1 + dim1, coor2 + dim2)\n",
    "    \n",
    "    if greater >= lower:\n",
    "        return (None, None)\n",
    "    \n",
    "    overlap = lower-greater\n",
    "    \n",
    "    return (greater, overlap)"
   ]
  },
  {
   "cell_type": "code",
   "execution_count": 15,
   "metadata": {},
   "outputs": [],
   "source": [
    "def calc_rect_overlap(r1, r2):\n",
    "    x_overlap, w_overlap = calc_overlap(r1['x'], r1['w'], r2['x'], r2['w'])\n",
    "    \n",
    "    y_overlap, h_overlap = calc_overlap(r1['y'], r1['h'], r2['y'], r2['h'])\n",
    "    \n",
    "    if not w_overlap or not h_overlap:\n",
    "        print 'No overlap!'\n",
    "        return None\n",
    "    \n",
    "    return {'x': x_overlap, 'y': y_overlap, 'w': w_overlap, 'h': h_overlap}"
   ]
  },
  {
   "cell_type": "code",
   "execution_count": 17,
   "metadata": {},
   "outputs": [
    {
     "data": {
      "text/plain": [
       "{'h': 11, 'w': 5, 'x': 2, 'y': 5}"
      ]
     },
     "execution_count": 17,
     "metadata": {},
     "output_type": "execute_result"
    }
   ],
   "source": [
    "r1 = {'x': 2, 'y': 4, 'w': 5, 'h': 12}\n",
    "r2 = {'x': 1, 'y': 5, 'w': 7, 'h': 14}\n",
    "calc_rect_overlap(r1, r2)"
   ]
  },
  {
   "cell_type": "code",
   "execution_count": null,
   "metadata": {},
   "outputs": [],
   "source": []
  }
 ],
 "metadata": {
  "kernelspec": {
   "display_name": "Python 2",
   "language": "python",
   "name": "python2"
  },
  "language_info": {
   "codemirror_mode": {
    "name": "ipython",
    "version": 2
   },
   "file_extension": ".py",
   "mimetype": "text/x-python",
   "name": "python",
   "nbconvert_exporter": "python",
   "pygments_lexer": "ipython2",
   "version": "2.7.15"
  }
 },
 "nbformat": 4,
 "nbformat_minor": 2
}
