{
 "cells": [
  {
   "cell_type": "code",
   "execution_count": 1,
   "metadata": {},
   "outputs": [],
   "source": [
    "def solution(lst, target):\n",
    "    seen = set()\n",
    "    \n",
    "    for num in lst:\n",
    "        num2 = target - num\n",
    "        \n",
    "        if num2 in seen:\n",
    "            return True\n",
    "        \n",
    "        seen.add(num)\n",
    "        \n",
    "    return False"
   ]
  },
  {
   "cell_type": "code",
   "execution_count": 6,
   "metadata": {},
   "outputs": [],
   "source": [
    "def solution(id_list):\n",
    "    unique_id = 0\n",
    "    \n",
    "    for i in id_list:\n",
    "        print 'This is the current id being chacked: ', i\n",
    "        print 'This is the current unique id', unique_id\n",
    "        print 'This is the result of the XOR', (unique_id^i)\n",
    "        unique_id ^= i\n",
    "        \n",
    "    return unique_id"
   ]
  },
  {
   "cell_type": "code",
   "execution_count": 7,
   "metadata": {},
   "outputs": [
    {
     "name": "stdout",
     "output_type": "stream",
     "text": [
      "This is the current id being chacked:  1\n",
      "This is the current unique id 0\n",
      "This is the result of the XOR 1\n",
      "This is the current id being chacked:  2\n",
      "This is the current unique id 1\n",
      "This is the result of the XOR 3\n",
      "This is the current id being chacked:  3\n",
      "This is the current unique id 3\n",
      "This is the result of the XOR 0\n",
      "This is the current id being chacked:  2\n",
      "This is the current unique id 0\n",
      "This is the result of the XOR 2\n",
      "This is the current id being chacked:  1\n",
      "This is the current unique id 2\n",
      "This is the result of the XOR 3\n"
     ]
    },
    {
     "data": {
      "text/plain": [
       "3"
      ]
     },
     "execution_count": 7,
     "metadata": {},
     "output_type": "execute_result"
    }
   ],
   "source": [
    "solution([1,2,3,2,1])"
   ]
  },
  {
   "cell_type": "code",
   "execution_count": 8,
   "metadata": {},
   "outputs": [],
   "source": [
    "def solution(unsorted_prices, max_price):\n",
    "    prices_to_counts = [0]*(max_price+1)\n",
    "    \n",
    "    for price in unsorted_prices:\n",
    "        prices_to_counts[price] += 1\n",
    "        \n",
    "    sorted_prices = []\n",
    "    \n",
    "    for price, count in enumerate(prices_to_counts):\n",
    "        for time in range(count):\n",
    "            sorted_prices.append(price)\n",
    "            \n",
    "    return sorted_prices"
   ]
  },
  {
   "cell_type": "code",
   "execution_count": null,
   "metadata": {},
   "outputs": [],
   "source": []
  }
 ],
 "metadata": {
  "kernelspec": {
   "display_name": "Python 2",
   "language": "python",
   "name": "python2"
  },
  "language_info": {
   "codemirror_mode": {
    "name": "ipython",
    "version": 2
   },
   "file_extension": ".py",
   "mimetype": "text/x-python",
   "name": "python",
   "nbconvert_exporter": "python",
   "pygments_lexer": "ipython2",
   "version": "2.7.15"
  }
 },
 "nbformat": 4,
 "nbformat_minor": 2
}
